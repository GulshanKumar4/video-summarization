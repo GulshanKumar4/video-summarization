{
 "cells": [
  {
   "cell_type": "code",
   "execution_count": 8,
   "metadata": {},
   "outputs": [],
   "source": [
    "import numpy as np\n",
    "import cv2\n",
    "from glob import glob\n",
    "\n",
    "def Video_player(k,label):\n",
    "    cap = cv2.VideoCapture(k)\n",
    "    check=1\n",
    "    print(\"1\")\n",
    "    while(cap.isOpened()):\n",
    "        ret, frame = cap.read()\n",
    "\n",
    "        gray = cv2.cvtColor(frame, cv2.COLOR_BGR2GRAY)\n",
    "        square_frame=gray[:,:]\n",
    "        y=len(gray)\n",
    "        x=len(gray[0])\n",
    "        min_len=min(x,y)\n",
    "        square_frame=gray[(y-min_len)//2:y-((y-min_len)//2),(x-min_len)//2:x-((x-min_len)//2)]\n",
    "        #debug_check\n",
    "        \"\"\"\n",
    "        if(check):\n",
    "            print((x-min_len)//2)\n",
    "            print(x-((x-min_len)//2))\n",
    "            print((y-min_len)//2)\n",
    "            print(y-((y-min_len)//2))\n",
    "            print(x)\n",
    "            print(y)\n",
    "            print(min_len)\n",
    "            check=0\n",
    "        \"\"\"\n",
    "        cv2.imshow('frame',gray)\n",
    "        cv2.imshow('square frame',square_frame)\n",
    "        if cv2.waitKey(10) & 0xFF == ord('q'):\n",
    "            break\n",
    "\n",
    "    cap.release()\n",
    "    cv2.destroyAllWindows()\n",
    "\n",
    "#check statement\n",
    "#mp4 download\n",
    "#insta video - Scrapping tool/Script \n",
    "#\n",
    "label={}\n",
    "label[0]=glob(r\"parachute\\*.mp4\")\n",
    "label[1]=glob(r\"shooting\\*.mp4\")\n",
    "label[2]=glob(r\"car\\*.mp4\")\n",
    "for i in list(label.keys()):\n",
    "    for video in label[i]:\n",
    "        Video_player(video,i)"
   ]
  },
  {
   "cell_type": "code",
   "execution_count": null,
   "metadata": {},
   "outputs": [],
   "source": []
  }
 ],
 "metadata": {
  "kernelspec": {
   "display_name": "Python 3",
   "language": "python",
   "name": "python3"
  },
  "language_info": {
   "codemirror_mode": {
    "name": "ipython",
    "version": 3
   },
   "file_extension": ".py",
   "mimetype": "text/x-python",
   "name": "python",
   "nbconvert_exporter": "python",
   "pygments_lexer": "ipython3",
   "version": "3.8.3"
  }
 },
 "nbformat": 4,
 "nbformat_minor": 4
}
